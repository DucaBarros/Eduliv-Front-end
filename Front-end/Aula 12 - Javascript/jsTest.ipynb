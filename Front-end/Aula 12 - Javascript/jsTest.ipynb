{
 "cells": [
  {
   "cell_type": "code",
   "execution_count": null,
   "id": "de3b9d59",
   "metadata": {},
   "outputs": [
    {
     "data": {
      "application/javascript": "\n//typeof\nlet num1 = \"2\"\nalert(typeof num1)\n",
      "text/plain": [
       "<IPython.core.display.Javascript object>"
      ]
     },
     "metadata": {},
     "output_type": "display_data"
    }
   ],
   "source": [
    "%%js\n",
    "\n",
    "//typeof\n",
    "let num1 = \"2\"\n",
    "alert(typeof num1)"
   ]
  },
  {
   "cell_type": "code",
   "execution_count": 34,
   "id": "a9445d6d",
   "metadata": {},
   "outputs": [
    {
     "data": {
      "application/javascript": "\n//String() + typeof()\nlet numString = 2\nlet string2 = String(numString)\nalert(typeof string2)\n",
      "text/plain": [
       "<IPython.core.display.Javascript object>"
      ]
     },
     "metadata": {},
     "output_type": "display_data"
    }
   ],
   "source": [
    "%%js\n",
    "\n",
    "//String() + typeof()\n",
    "let numString = 2\n",
    "let string2 = String(numString)\n",
    "alert(typeof string2)"
   ]
  },
  {
   "cell_type": "code",
   "execution_count": 29,
   "id": "c76f3b5b",
   "metadata": {},
   "outputs": [
    {
     "data": {
      "application/javascript": "\n//typeof\nlet num2 = 2\nalert(typeof num2)\n",
      "text/plain": [
       "<IPython.core.display.Javascript object>"
      ]
     },
     "metadata": {},
     "output_type": "display_data"
    }
   ],
   "source": [
    "%%js\n",
    "\n",
    "//typeof\n",
    "let num2 = 2\n",
    "alert(typeof num2)"
   ]
  },
  {
   "cell_type": "code",
   "execution_count": null,
   "id": "1396f086",
   "metadata": {},
   "outputs": [
    {
     "data": {
      "application/javascript": "\n// prompt & three ways of declaring variables\n// prompt always get strings\nconst number1 = parseFloat(prompt('Digite o primeiro número')) // parseFloat() convert to float\nvar number2 = parseFloat(prompt('Digite o segundo número'))\nlet number3 = parseFloat(prompt('Digite o terceiro número'))\nlet sumResult = number1 + number2 + number3\n\nalert(sumResult)\n",
      "text/plain": [
       "<IPython.core.display.Javascript object>"
      ]
     },
     "metadata": {},
     "output_type": "display_data"
    }
   ],
   "source": [
    "%%js\n",
    "\n",
    "// prompt & three ways of declaring variables\n",
    "// prompt always get strings\n",
    "const number1 = parseFloat(prompt('Digite o primeiro número')) // parseFloat() convert to float\n",
    "var number2 = parseFloat(prompt('Digite o segundo número'))\n",
    "let number3 = parseFloat(prompt('Digite o terceiro número'))\n",
    "let sumResult = number1 + number2 + number3\n",
    "\n",
    "// alert(sumResult)\n"
   ]
  }
 ],
 "metadata": {
  "kernelspec": {
   "display_name": "Python 3",
   "language": "python",
   "name": "python3"
  },
  "language_info": {
   "codemirror_mode": {
    "name": "ipython",
    "version": 3
   },
   "file_extension": ".py",
   "mimetype": "text/x-python",
   "name": "python",
   "nbconvert_exporter": "python",
   "pygments_lexer": "ipython3",
   "version": "3.13.3"
  }
 },
 "nbformat": 4,
 "nbformat_minor": 5
}
